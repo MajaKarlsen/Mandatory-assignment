{
 "cells": [
  {
   "cell_type": "markdown",
   "metadata": {},
   "source": [
    "# TECH 2 mandatory assignment - Part B\n",
    "\n",
    "Write your solution for Part B in this notebook."
   ]
  },
  {
   "cell_type": "code",
   "execution_count": 102,
   "metadata": {},
   "outputs": [],
   "source": [
    "import pandas as pd"
   ]
  },
  {
   "cell_type": "code",
   "execution_count": 108,
   "metadata": {},
   "outputs": [],
   "source": [
    "file = pd.read_csv(\"data.2.csv\")"
   ]
  },
  {
   "cell_type": "code",
   "execution_count": 132,
   "metadata": {},
   "outputs": [
    {
     "name": "stdout",
     "output_type": "stream",
     "text": [
      "      0.682351863  0.682351863.1  0.682351863.2\n",
      "0        0.053821       0.053821       0.053821\n",
      "1        0.220360       0.220360       0.220360\n",
      "2        0.184372       0.184372       0.184372\n",
      "3        0.175906       0.175906       0.175906\n",
      "4        0.812095       0.812095       0.812095\n",
      "...           ...            ...            ...\n",
      "9994          NaN            NaN       0.344087\n",
      "9995          NaN            NaN       0.517366\n",
      "9996          NaN            NaN       0.502259\n",
      "9997          NaN            NaN       0.370318\n",
      "9998          NaN            NaN       0.408432\n",
      "\n",
      "[9999 rows x 3 columns]\n"
     ]
    }
   ],
   "source": [
    "print(file)"
   ]
  },
  {
   "cell_type": "code",
   "execution_count": 242,
   "metadata": {
    "scrolled": true
   },
   "outputs": [],
   "source": [
    "column3 = file['0.682351863.2'].tolist()"
   ]
  },
  {
   "cell_type": "code",
   "execution_count": 244,
   "metadata": {},
   "outputs": [],
   "source": [
    "column3.insert(0,0.682351863)"
   ]
  },
  {
   "cell_type": "code",
   "execution_count": 268,
   "metadata": {},
   "outputs": [],
   "source": [
    "column2 = column3[:1000]"
   ]
  },
  {
   "cell_type": "code",
   "execution_count": 270,
   "metadata": {},
   "outputs": [],
   "source": [
    "column1 = column3[:100]"
   ]
  },
  {
   "cell_type": "code",
   "execution_count": null,
   "metadata": {},
   "outputs": [],
   "source": []
  },
  {
   "cell_type": "code",
   "execution_count": 306,
   "metadata": {},
   "outputs": [
    {
     "data": {
      "text/plain": [
       "0.28237210972903076"
      ]
     },
     "execution_count": 306,
     "metadata": {},
     "output_type": "execute_result"
    }
   ],
   "source": [
    "#Part A, 1.\n",
    "\n",
    "from math import sqrt \n",
    "\n",
    "def std_loops(column1):\n",
    "#Define sum_a and sum_b\n",
    "    sum_a = 0\n",
    "    sum_b = 0\n",
    "\n",
    "#Find the lenght of the list, so that i have a variable in the for-loop\n",
    "    N = 0\n",
    "    \n",
    "    for i in column1:\n",
    "        \n",
    "        N = N + 1\n",
    "    \n",
    "\n",
    "#Part 1\n",
    "    for i in range(1, N + 1):\n",
    "        xi = column1[i - 1]\n",
    "        sum_a = sum_a + xi\n",
    "        \n",
    "    mx = 1 / N  * sum_a    #For mx = the mean\n",
    "\n",
    "\n",
    "#Part 2\n",
    "    for i in range(1, N + 1):\n",
    "        b = (column1[i - 1])**2\n",
    "        sum_b = sum_b + b\n",
    "\n",
    "    S = 1/N * sum_b    #For S = the mean of squares\n",
    "\n",
    "#Part 3 and 4\n",
    "    o = sqrt(S - mx ** 2)     #For o = the standard deviation\n",
    "\n",
    "    return(o)\n",
    "    \n",
    "std_loops(column1)"
   ]
  },
  {
   "cell_type": "code",
   "execution_count": 310,
   "metadata": {},
   "outputs": [
    {
     "data": {
      "text/plain": [
       "0.284674432843986"
      ]
     },
     "execution_count": 310,
     "metadata": {},
     "output_type": "execute_result"
    }
   ],
   "source": [
    "#Part A, 1.\n",
    "\n",
    "from math import sqrt \n",
    "\n",
    "def std_loops(column2):\n",
    "#Define sum_a and sum_b\n",
    "    sum_a = 0\n",
    "    sum_b = 0\n",
    "\n",
    "\n",
    "#Find the lenght of the list, so that i have a variable in the for-loop\n",
    "    N = 0\n",
    "    \n",
    "    for i in column2:\n",
    "        \n",
    "        N = N + 1\n",
    "    \n",
    "\n",
    "#Part 1\n",
    "    for i in range(1, N + 1):\n",
    "        xi = column2[i - 1]\n",
    "        sum_a = sum_a + xi\n",
    "        \n",
    "    mx = 1 / N  * sum_a    #For mx = the mean\n",
    "\n",
    "\n",
    "#Part 2\n",
    "    for i in range(1, N + 1):\n",
    "        b = (column2[i - 1])**2\n",
    "        sum_b = sum_b + b\n",
    "\n",
    "    S = 1/N * sum_b    #For S = the mean of squares\n",
    "\n",
    "#Part 3 and 4\n",
    "    o = sqrt(S - mx ** 2)     #For o = the standard deviation\n",
    "\n",
    "    return(o)\n",
    "    \n",
    "std_loops(column2)"
   ]
  },
  {
   "cell_type": "code",
   "execution_count": 312,
   "metadata": {},
   "outputs": [
    {
     "data": {
      "text/plain": [
       "0.28540452695650337"
      ]
     },
     "execution_count": 312,
     "metadata": {},
     "output_type": "execute_result"
    }
   ],
   "source": [
    "#Part A, 1.\n",
    "\n",
    "from math import sqrt \n",
    "\n",
    "def std_loops(column3):\n",
    "#Define sum_a and sum_b\n",
    "    sum_a = 0\n",
    "    sum_b = 0\n",
    "\n",
    "\n",
    "\n",
    "#Find the lenght of the list, so that i have a variable in the for-loop\n",
    "    N = 0\n",
    "    \n",
    "    for i in column3:\n",
    "        \n",
    "        N = N + 1\n",
    "    \n",
    "\n",
    "#Part 1\n",
    "    for i in range(1, N + 1):\n",
    "        xi = column3[i - 1]\n",
    "        sum_a = sum_a + xi\n",
    "        \n",
    "    mx = 1 / N  * sum_a    #For mx = the mean\n",
    "\n",
    "\n",
    "#Part 2\n",
    "    for i in range(1, N + 1):\n",
    "        b = (column3[i - 1])**2\n",
    "        sum_b = sum_b + b\n",
    "\n",
    "    S = 1/N * sum_b    #For S = the mean of squares\n",
    "\n",
    "#Part 3 and 4\n",
    "    o = sqrt(S - mx ** 2)     #For o = the standard deviation\n",
    "\n",
    "    return(o)\n",
    "    \n",
    "std_loops(column3)"
   ]
  },
  {
   "cell_type": "code",
   "execution_count": 314,
   "metadata": {},
   "outputs": [
    {
     "data": {
      "text/plain": [
       "0.2823721097290309"
      ]
     },
     "execution_count": 314,
     "metadata": {},
     "output_type": "execute_result"
    }
   ],
   "source": [
    "#Part A, 2.\n",
    "from math import sqrt\n",
    "\n",
    "def std_builtin(column1):\n",
    "    \n",
    "\n",
    "    N = len(column1)\n",
    "\n",
    "    mx = 1 / N * sum(column1)\n",
    "\n",
    "    S = (1 / N) * sum(x**2 for x in column1)\n",
    "\n",
    "    o = sqrt(S - mx**2)\n",
    "\n",
    "    return(o)\n",
    "\n",
    "std_builtin(column1)"
   ]
  },
  {
   "cell_type": "code",
   "execution_count": 316,
   "metadata": {},
   "outputs": [
    {
     "data": {
      "text/plain": [
       "0.2846744328439865"
      ]
     },
     "execution_count": 316,
     "metadata": {},
     "output_type": "execute_result"
    }
   ],
   "source": [
    "#Part A, 2.\n",
    "from math import sqrt\n",
    "\n",
    "def std_builtin(column2):\n",
    "\n",
    "    N = len(column2)\n",
    "\n",
    "    mx = 1 / N * sum(column2)\n",
    "\n",
    "    S = (1 / N) * sum(x**2 for x in column2)\n",
    "\n",
    "    o = sqrt(S - mx**2)\n",
    "\n",
    "    return(o)\n",
    "\n",
    "std_builtin(column2)"
   ]
  },
  {
   "cell_type": "code",
   "execution_count": 318,
   "metadata": {},
   "outputs": [
    {
     "data": {
      "text/plain": [
       "0.2854045269565027"
      ]
     },
     "execution_count": 318,
     "metadata": {},
     "output_type": "execute_result"
    }
   ],
   "source": [
    "#Part A, 2.\n",
    "from math import sqrt\n",
    "\n",
    "def std_builtin(column3):\n",
    "\n",
    "    N = len(column3)\n",
    "\n",
    "    mx = 1 / N * sum(column3)\n",
    "\n",
    "    S = (1 / N) * sum(x**2 for x in column3)\n",
    "\n",
    "    o = sqrt(S - mx**2)\n",
    "\n",
    "    return(o)\n",
    "\n",
    "std_builtin(column3)"
   ]
  },
  {
   "cell_type": "code",
   "execution_count": 284,
   "metadata": {},
   "outputs": [
    {
     "name": "stdout",
     "output_type": "stream",
     "text": [
      "0.2823721097290308\n"
     ]
    }
   ],
   "source": [
    "#Part A, 3.\n",
    "\n",
    "import numpy as np\n",
    "\n",
    "o = np.std(column1)\n",
    "\n",
    "print(o)"
   ]
  },
  {
   "cell_type": "code",
   "execution_count": 286,
   "metadata": {},
   "outputs": [
    {
     "name": "stdout",
     "output_type": "stream",
     "text": [
      "0.28467443284398647\n"
     ]
    }
   ],
   "source": [
    "#Part A, 3.\n",
    "\n",
    "import numpy as np\n",
    "\n",
    "o = np.std(column2)\n",
    "\n",
    "print(o)"
   ]
  },
  {
   "cell_type": "code",
   "execution_count": 304,
   "metadata": {},
   "outputs": [
    {
     "name": "stdout",
     "output_type": "stream",
     "text": [
      "0.28540452695650265\n"
     ]
    }
   ],
   "source": [
    "#Part A, 3.\n",
    "\n",
    "import numpy as np\n",
    "\n",
    "o = np.std(column3)\n",
    "\n",
    "print(o)"
   ]
  },
  {
   "cell_type": "code",
   "execution_count": 308,
   "metadata": {},
   "outputs": [
    {
     "name": "stdout",
     "output_type": "stream",
     "text": [
      "51.1 μs ± 1.42 μs per loop (mean ± std. dev. of 7 runs, 10,000 loops each)\n"
     ]
    }
   ],
   "source": [
    "%timeit (std_loops(column1))"
   ]
  },
  {
   "cell_type": "code",
   "execution_count": 320,
   "metadata": {},
   "outputs": [
    {
     "name": "stdout",
     "output_type": "stream",
     "text": [
      "35 μs ± 1.23 μs per loop (mean ± std. dev. of 7 runs, 10,000 loops each)\n"
     ]
    }
   ],
   "source": [
    "%timeit (std_builtin(column1))"
   ]
  },
  {
   "cell_type": "code",
   "execution_count": 294,
   "metadata": {},
   "outputs": [
    {
     "name": "stdout",
     "output_type": "stream",
     "text": [
      "39.8 μs ± 1.47 μs per loop (mean ± std. dev. of 7 runs, 10,000 loops each)\n"
     ]
    }
   ],
   "source": [
    "%timeit (np.std(column1))"
   ]
  },
  {
   "cell_type": "code",
   "execution_count": 322,
   "metadata": {},
   "outputs": [
    {
     "name": "stdout",
     "output_type": "stream",
     "text": [
      "6.43 ms ± 202 μs per loop (mean ± std. dev. of 7 runs, 100 loops each)\n"
     ]
    }
   ],
   "source": [
    "%timeit (std_loops(column3))"
   ]
  },
  {
   "cell_type": "code",
   "execution_count": 324,
   "metadata": {},
   "outputs": [
    {
     "name": "stdout",
     "output_type": "stream",
     "text": [
      "6.26 ms ± 901 μs per loop (mean ± std. dev. of 7 runs, 100 loops each)\n"
     ]
    }
   ],
   "source": [
    "%timeit (std_loops(column3))"
   ]
  },
  {
   "cell_type": "code",
   "execution_count": 326,
   "metadata": {},
   "outputs": [
    {
     "name": "stdout",
     "output_type": "stream",
     "text": [
      "931 μs ± 12.7 μs per loop (mean ± std. dev. of 7 runs, 1,000 loops each)\n"
     ]
    }
   ],
   "source": [
    "%timeit (np.std(column3))"
   ]
  },
  {
   "cell_type": "code",
   "execution_count": null,
   "metadata": {},
   "outputs": [],
   "source": [
    "#When using a long list of numbers, using std() from NumPy computes the standard deviation the fastest.\n",
    "#However, when working with a shorter list, it is more effective to use Python's built-in functions"
   ]
  }
 ],
 "metadata": {
  "kernelspec": {
   "display_name": "Python 3 (ipykernel)",
   "language": "python",
   "name": "python3"
  },
  "language_info": {
   "codemirror_mode": {
    "name": "ipython",
    "version": 3
   },
   "file_extension": ".py",
   "mimetype": "text/x-python",
   "name": "python",
   "nbconvert_exporter": "python",
   "pygments_lexer": "ipython3",
   "version": "3.12.4"
  }
 },
 "nbformat": 4,
 "nbformat_minor": 4
}
